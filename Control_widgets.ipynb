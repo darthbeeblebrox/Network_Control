{
 "cells": [
  {
   "cell_type": "code",
   "execution_count": null,
   "metadata": {
    "collapsed": false
   },
   "outputs": [],
   "source": [
    "from ipywidgets import interact, interactive, fixed, interact_manual\n",
    "import ipywidgets as widgets\n",
    "import networkx as nx\n",
    "\n",
    "from lib import TestNetworks as tn\n",
    "from lib import DigraphConvert as dc\n",
    "\n",
    "#Read in the control range data as a dictionary keyed by node\n",
    "import csv\n",
    "control_range = {}\n",
    "with open(\"./dat/SMCR_Result.txt\") as csvfile:\n",
    "    cr_file = csv.reader(csvfile, delimiter='\\t', quotechar='|')\n",
    "    for row in cr_file:\n",
    "        control_range[int(row[0])] = int(row[1])\n",
    "\n",
    "#C elegans network; the global thing we want to play with\n",
    "G = tn.testNet(100)\n",
    "G = dc.CelegansLabelConvert(G)\n",
    "nx.set_node_attributes(G,'control_range',control_range)\n",
    "Gn = G.nodes\n",
    "#Control range data\n",
    "#CRdat = ...\n"
   ]
  },
  {
   "cell_type": "code",
   "execution_count": null,
   "metadata": {
    "collapsed": false
   },
   "outputs": [],
   "source": [
    "\n",
    "def neuronData(node_num):\n",
    "    #print(type(node_num))\n",
    "    this_node = [dat for num,dat in G.nodes_iter(data=True) if(num==node_num)][0]\n",
    "    #print(this_node)\n",
    "    #print(len(this_node))\n",
    "    print(\"Neuron number\",node_num,\"is called\",this_node['name'])\n",
    "    print(\"The control range is\",this_node['control_range'])\n",
    "    #return 0\n",
    "    \n",
    "node_widget = widgets.BoundedIntText(\n",
    "    value=7,\n",
    "    min=0,\n",
    "    max=G.number_of_nodes()-1,\n",
    "    step=1,\n",
    "    description='Text:',\n",
    "    disabled=False\n",
    ")\n",
    "interact(neuronData,node_num=node_widget);"
   ]
  }
 ],
 "metadata": {
  "kernelspec": {
   "display_name": "Python [conda root]",
   "language": "python",
   "name": "conda-root-py"
  },
  "language_info": {
   "codemirror_mode": {
    "name": "ipython",
    "version": 3
   },
   "file_extension": ".py",
   "mimetype": "text/x-python",
   "name": "python",
   "nbconvert_exporter": "python",
   "pygments_lexer": "ipython3",
   "version": "3.5.2"
  }
 },
 "nbformat": 4,
 "nbformat_minor": 1
}
