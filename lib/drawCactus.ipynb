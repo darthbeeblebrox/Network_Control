{
 "cells": [
  {
   "cell_type": "code",
   "execution_count": null,
   "metadata": {
    "collapsed": true
   },
   "outputs": [],
   "source": [
    "import networkx as nx\n",
    "import matplotlib.pyplot as plt\n",
    "    \n",
    "def drawCactus(G,C):\n",
    "    # draw a cactus (G is full digraph, C is cactus graph)\n",
    "    # draws cactus in red, rest of G in black\n",
    "   \n",
    "    \n",
    "    # Specify the edges you want here\n",
    "    red_edges = C.edges()\n",
    "    edge_colors = ['black' if not edge in red_edges else 'red'\n",
    "                    for edge in G.edges()]\n",
    "    black_edges = [edge for edge in G.edges() if edge not in red_edges]\n",
    "    \n",
    "    node_colors = ['black' if not n in C.nodes() else 'red' for n in G.nodes()]\n",
    "            \n",
    "\n",
    "    # Need to create a layout when doing\n",
    "    # separate calls to draw nodes and edges\n",
    "    pos = nx.spring_layout(G)\n",
    "    nx.draw_networkx_nodes(G, pos, cmap=plt.get_cmap('jet'), node_color = node_colors)\n",
    "    nx.draw_networkx_edges(G, pos, edgelist=red_edges, edge_color='r', arrows=True)\n",
    "    nx.draw_networkx_edges(G, pos, edgelist=black_edges, arrows=False)\n",
    "    nx.draw_networkx_labels(G,pos,font_size=20,font_family='sans-serif')\n",
    "    plt.axis('off')\n",
    "    plt.show()"
   ]
  }
 ],
 "metadata": {
  "kernelspec": {
   "display_name": "Python 3",
   "language": "python",
   "name": "python3"
  },
  "language_info": {
   "codemirror_mode": {
    "name": "ipython",
    "version": 3
   },
   "file_extension": ".py",
   "mimetype": "text/x-python",
   "name": "python",
   "nbconvert_exporter": "python",
   "pygments_lexer": "ipython3",
   "version": "3.6.0"
  }
 },
 "nbformat": 4,
 "nbformat_minor": 2
}
