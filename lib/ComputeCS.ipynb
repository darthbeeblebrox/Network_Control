{
 "cells": [
  {
   "cell_type": "code",
   "execution_count": 47,
   "metadata": {
    "collapsed": false
   },
   "outputs": [
    {
     "name": "stdout",
     "output_type": "stream",
     "text": [
      "[[0, 3, 0, 0, 4, 4, 4, 4, 4, 2, 2, 1, 3, 3, 3, 12], [3, 0, 1, 1, 0, 0, 0, 0, 0, 0, 0, 0, 3, 3, 3, 3], [0, 1, 0, 0, 0, 0, 0, 0, 0, 0, 0, 0, 0, 0, 0, 0], [0, 1, 0, 0, 0, 0, 0, 0, 0, 0, 0, 0, 0, 0, 0, 0], [4, 0, 0, 0, 0, 4, 4, 4, 0, 0, 0, 0, 0, 0, 0, 4], [4, 0, 0, 0, 4, 0, 4, 4, 0, 0, 0, 0, 0, 0, 0, 4], [4, 0, 0, 0, 4, 4, 0, 4, 0, 0, 0, 0, 0, 0, 0, 4], [4, 0, 0, 0, 4, 4, 4, 0, 0, 0, 0, 0, 0, 0, 0, 4], [4, 0, 0, 0, 0, 0, 0, 0, 0, 2, 2, 1, 0, 0, 0, 4], [2, 0, 0, 0, 0, 0, 0, 0, 2, 0, 2, 0, 0, 0, 0, 2], [2, 0, 0, 0, 0, 0, 0, 0, 2, 2, 0, 0, 0, 0, 0, 2], [1, 0, 0, 0, 0, 0, 0, 0, 1, 0, 0, 0, 0, 0, 0, 1], [3, 3, 0, 0, 0, 0, 0, 0, 0, 0, 0, 0, 0, 3, 3, 3], [3, 3, 0, 0, 0, 0, 0, 0, 0, 0, 0, 0, 3, 0, 3, 3], [3, 3, 0, 0, 0, 0, 0, 0, 0, 0, 0, 0, 3, 3, 0, 3], [12, 3, 0, 0, 4, 4, 4, 4, 4, 2, 2, 1, 3, 3, 3, 0]]\n"
     ]
    }
   ],
   "source": [
    "# Computes the size of the maximum control range (SMCR) for each node in the network\n",
    "# Inputs are:\n",
    "#    G, the network digraph\n",
    "#    AllMM, list of dicts containing all maximum matching configurations\n",
    "#    m & n, the nodes whose similarity you want to compute (Note that these start from 0)\n",
    "\n",
    "from lib import BuildCF as CF\n",
    "import networkx as nx\n",
    "import numpy as np\n",
    "import matplotlib.pyplot as plt\n",
    "import TestNetworks\n",
    "\n",
    "\n",
    "def CS(G,AllMM,m,n):\n",
    "    nodeInds = range(len(G.nodes()))\n",
    "    MMdigs = [] #list of MM digraphs\n",
    "    eInd = 0\n",
    "    for MMdict in AllMM:\n",
    "        MM = nx.DiGraph()\n",
    "        MM.add_nodes_from(G.nodes())\n",
    "        edgeList = []\n",
    "        for key in MMdict: #convert dict of edges to nx digraph\n",
    "            edgeList.append([key,MMdict[key]])\n",
    "        MM.add_edges_from(edgeList)\n",
    "        MMdigs.append(MM)\n",
    "    maxSim = 0\n",
    "    for jCS in range(len(MMdigs)):\n",
    "        print('MM ', jCS, '/', len(MMdigs))\n",
    "        MM1 = MMdigs[jCS]\n",
    "        cacti1 = CF.BuildCF(G,MM1)\n",
    "        DC1 = CF.downstreamCactus(cacti1,G.nodes()[m])\n",
    "        for kCS in range(len(MMdigs)):\n",
    "            MM2 = MMdigs[kCS]\n",
    "            cacti2 = CF.BuildCF(G,MM2)\n",
    "            DC2 = CF.downstreamCactus(cacti2,G.nodes()[n])\n",
    "            sim = len(set(DC1).intersection(DC2))\n",
    "            if sim > maxSim:\n",
    "                maxSim = sim\n",
    "    return maxSim\n",
    "                \n",
    "def AllCS(G,AllMM):\n",
    "    CSims = [ [ 0 for y in range( len(G.nodes()) ) ] for x in range( len(G.nodes()) ) ] # n*n array for storing CR similarities\n",
    "    nodeInds = range(len(G.nodes()))\n",
    "    nIter1 = 0\n",
    "    for m in nodeInds:\n",
    "        nIter2 = 0\n",
    "        for n in range(m): #only need n to go up to m-1 because CS is symmetric and diagonals are irrelevant\n",
    "            print('AllCS: Computing from node ', nIter1, ' to node ', nIter2)\n",
    "            sim = CS(G,AllMM,m,n)\n",
    "            CSims[m][n] = sim\n",
    "            CSims[n][m] = sim\n",
    "            nIter2 +=1\n",
    "        nIter1 += 1\n",
    "    return CSims\n",
    "\n",
    "\n",
    "\n",
    "# G = TestNetworks.testNet(4)\n",
    "# AllMM = [{1:16,2:3,5:6,6:7,7:8,8:5,9:12,10:11,11:10,13:14,14:15,15:13,16:9},{1:16,2:4,5:6,6:7,7:8,8:5,9:12,10:11,11:10,13:14,14:15,15:13,16:9}]\n",
    "\n",
    "# CSmatrix = AllCS(G,AllMM)\n",
    "# # print(CS(G,AllMM,0,15))\n",
    "\n",
    "# print(CSmatrix)\n",
    "\n",
    "# # maxCRs = SMCR(G,AllMM)\n",
    "# # print(maxCRs)\n",
    "\n"
   ]
  },
  {
   "cell_type": "code",
   "execution_count": null,
   "metadata": {
    "collapsed": true
   },
   "outputs": [],
   "source": []
  }
 ],
 "metadata": {
  "kernelspec": {
   "display_name": "Python 3",
   "language": "python",
   "name": "python3"
  },
  "language_info": {
   "codemirror_mode": {
    "name": "ipython",
    "version": 3
   },
   "file_extension": ".py",
   "mimetype": "text/x-python",
   "name": "python",
   "nbconvert_exporter": "python",
   "pygments_lexer": "ipython3",
   "version": "3.6.0"
  }
 },
 "nbformat": 4,
 "nbformat_minor": 2
}
