{
 "cells": [
  {
   "cell_type": "code",
   "execution_count": 1,
   "metadata": {
    "collapsed": false
   },
   "outputs": [],
   "source": [
    "#From:\n",
    "#   http://stackoverflow.com/questions/37144423/all-possible-maximum-matchings-of-a-bipartite-graph\n",
    "\n",
    "import networkx as nx\n",
    "import matplotlib.pyplot as plt\n",
    "\n",
    "def checkAll(G,m):\n",
    "    b = nx.bipartite.eppstein_matching(G) # Finds first match\n",
    "    c = list(b.keys())\n",
    "    for y in c[int(len(c)/2):]: # Reduces to one occurrence per line\n",
    "        b.pop(y)\n",
    "    if len(b) != m: # If new size, break\n",
    "        return 0\n",
    "    return b # Add to list of possibilities\n",
    "\n",
    "def maximal_matching(G):\n",
    "    edges = G.edges()\n",
    "    A = []\n",
    "    m = len(nx.bipartite.eppstein_matching(G))/2 # Create an expected maximum\n",
    "    for x in range(len(edges)):\n",
    "        b = checkAll(G,m)\n",
    "        if b:\n",
    "            A += [b]\n",
    "        else:\n",
    "            break\n",
    "        keys = list(b.keys())\n",
    "        cache = (keys[0],b[keys[0]])\n",
    "        removed = []\n",
    "        while 1:\n",
    "            removed += [(keys[1],b[keys[1]])]\n",
    "            G.remove_edge(keys[1],b[keys[1]]) # Remove first option\n",
    "            b = checkAll(G,m)\n",
    "            if b and cache == (keys[0],b[keys[0]]):\n",
    "                A += [b]\n",
    "            else:\n",
    "                break\n",
    "        G.add_edges_from(removed)\n",
    "        G.remove_edge(*edges[x])\n",
    "\n",
    "    return A\n",
    "\n",
    "def print_matching(A):\n",
    "    print(list(eval(x) for x in set(str(x) for x in A)))"
   ]
  },
  {
   "cell_type": "code",
   "execution_count": 2,
   "metadata": {
    "collapsed": false
   },
   "outputs": [
    {
     "name": "stderr",
     "output_type": "stream",
     "text": [
      "C:\\Users\\Daniel\\Anaconda3\\envs\\py3k\\lib\\site-packages\\networkx\\drawing\\nx_pylab.py:126: MatplotlibDeprecationWarning: pyplot.hold is deprecated.\n",
      "    Future behavior will be consistent with the long-time default:\n",
      "    plot commands add elements without first clearing the\n",
      "    Axes and/or Figure.\n",
      "  b = plt.ishold()\n",
      "C:\\Users\\Daniel\\Anaconda3\\envs\\py3k\\lib\\site-packages\\networkx\\drawing\\nx_pylab.py:138: MatplotlibDeprecationWarning: pyplot.hold is deprecated.\n",
      "    Future behavior will be consistent with the long-time default:\n",
      "    plot commands add elements without first clearing the\n",
      "    Axes and/or Figure.\n",
      "  plt.hold(b)\n",
      "C:\\Users\\Daniel\\Anaconda3\\envs\\py3k\\lib\\site-packages\\matplotlib\\__init__.py:917: UserWarning: axes.hold is deprecated. Please remove it from your matplotlibrc and/or style files.\n",
      "  warnings.warn(self.msg_depr_set % key)\n",
      "C:\\Users\\Daniel\\Anaconda3\\envs\\py3k\\lib\\site-packages\\matplotlib\\rcsetup.py:152: UserWarning: axes.hold is deprecated, will be removed in 3.0\n",
      "  warnings.warn(\"axes.hold is deprecated, will be removed in 3.0\")\n"
     ]
    },
    {
     "data": {
      "image/png": "[encoded data removed]",
      "text/plain": [
       "<matplotlib.figure.Figure at 0x29e20ec6438>"
      ]
     },
     "metadata": {},
     "output_type": "display_data"
    },
    {
     "name": "stdout",
     "output_type": "stream",
     "text": [
      "[{0: 5, 1: 3}, {0: 3, 1: 2}, {0: 4, 1: 3}, {0: 5, 1: 4}, {0: 2, 1: 5}, {0: 5, 1: 2}, {0: 4, 1: 5}, {0: 3, 1: 5}, {0: 2, 1: 4}, {0: 3, 1: 4}, {0: 4, 1: 2}, {0: 2, 1: 3}]\n"
     ]
    }
   ],
   "source": [
    "G = nx.complete_bipartite_graph(2, 4)\n",
    "nx.draw(G, with_labels=True)\n",
    "plt.show()\n",
    "\n",
    "max_list = maximal_matching(G)\n",
    "print_matching(max_list)"
   ]
  },
  {
   "cell_type": "code",
   "execution_count": 3,
   "metadata": {
    "collapsed": false
   },
   "outputs": [
    {
     "name": "stdout",
     "output_type": "stream",
     "text": [
      "3.5.2 |Anaconda 4.3.1 (64-bit)| (default, Jul  5 2016, 11:41:13) [MSC v.1900 64 bit (AMD64)]\n"
     ]
    },
    {
     "name": "stderr",
     "output_type": "stream",
     "text": [
      "Python 3.5.2 :: Anaconda 4.3.1 (64-bit)\n"
     ]
    }
   ],
   "source": [
    "import sys\n",
    "print(sys.version)\n",
    "!python -V"
   ]
  },
  {
   "cell_type": "code",
   "execution_count": null,
   "metadata": {
    "collapsed": false
   },
   "outputs": [],
   "source": []
  },
  {
   "cell_type": "code",
   "execution_count": null,
   "metadata": {
    "collapsed": true
   },
   "outputs": [],
   "source": []
  }
 ],
 "metadata": {
  "anaconda-cloud": {},
  "kernelspec": {
   "display_name": "Python 3",
   "language": "python",
   "name": "python3"
  },
  "language_info": {
   "codemirror_mode": {
    "name": "ipython",
    "version": 3
   },
   "file_extension": ".py",
   "mimetype": "text/x-python",
   "name": "python",
   "nbconvert_exporter": "python",
   "pygments_lexer": "ipython3",
   "version": "3.5.2"
  }
 },
 "nbformat": 4,
 "nbformat_minor": 1
}
