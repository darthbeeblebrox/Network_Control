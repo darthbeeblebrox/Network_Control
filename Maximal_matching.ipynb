{
 "cells": [
  {
   "cell_type": "code",
   "execution_count": 2,
   "metadata": {
    "collapsed": false
   },
   "outputs": [],
   "source": [
    "#From:\n",
    "#   http://stackoverflow.com/questions/37144423/all-possible-maximum-matchings-of-a-bipartite-graph\n",
    "\n",
    "import networkx as nx\n",
    "import matplotlib.pyplot as plt\n",
    "\n",
    "def checkAll(G,m):\n",
    "    b = nx.bipartite.eppstein_matching(G) # Finds first match\n",
    "    c = list(b.keys())\n",
    "    for y in c[int(len(c)/2):]: # Reduces to one occurrence per line\n",
    "        b.pop(y)\n",
    "    if len(b) != m: # If new size, break\n",
    "        return 0\n",
    "    return b # Add to list of possibilities\n",
    "\n",
    "def maximal_matching(G):\n",
    "    edges = G.edges()\n",
    "    A = []\n",
    "    m = len(nx.bipartite.eppstein_matching(G))/2 # Create an expected maximum\n",
    "    for x in range(len(edges)):\n",
    "        b = checkAll(G,m)\n",
    "        if b:\n",
    "            A += [b]\n",
    "        else:\n",
    "            break\n",
    "        keys = list(b.keys())\n",
    "        cache = (keys[0],b[keys[0]])\n",
    "        removed = []\n",
    "        while 1:\n",
    "            removed += [(keys[1],b[keys[1]])]\n",
    "            G.remove_edge(keys[1],b[keys[1]]) # Remove first option\n",
    "            b = checkAll(G,m)\n",
    "            if b and cache == (keys[0],b[keys[0]]):\n",
    "                A += [b]\n",
    "            else:\n",
    "                break\n",
    "        G.add_edges_from(removed)\n",
    "        G.remove_edge(*edges[x])\n",
    "\n",
    "    return A\n",
    "\n",
    "def print_matching(A):\n",
    "    print(list(eval(x) for x in set(str(x) for x in A)))"
   ]
  }
 ],
 "metadata": {
  "anaconda-cloud": {},
  "kernelspec": {
   "display_name": "Python [conda root]",
   "language": "python",
   "name": "conda-root-py"
  },
  "language_info": {
   "codemirror_mode": {
    "name": "ipython",
    "version": 3
   },
   "file_extension": ".py",
   "mimetype": "text/x-python",
   "name": "python",
   "nbconvert_exporter": "python",
   "pygments_lexer": "ipython3",
   "version": "3.5.2"
  }
 },
 "nbformat": 4,
 "nbformat_minor": 1
}
