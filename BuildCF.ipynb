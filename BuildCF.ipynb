{
 "cells": [
  {
   "cell_type": "code",
   "execution_count": 99,
   "metadata": {
    "collapsed": false
   },
   "outputs": [],
   "source": [
    "# Builds the minimum input control configuration (CF) from a given maximum matching\n",
    "# Inputs are:\n",
    "#    G, the network digraph\n",
    "#    MM, another digraph consisting of the same nodes as G but only the edges contained in the maximum matching\n",
    "\n",
    "# The procedure for this function is depicted schematically in Wang (2012) Fig. 2\n",
    "\n",
    "import networkx as nx\n",
    "import numpy as np\n",
    "\n",
    "\n",
    "def BuildCF(G,MM):\n",
    "    matching = MM.edges()\n",
    "    zz = list(zip(*matching)) #split tuple list into \"out\" list and \"in\" list (just MM links)\n",
    "    MMoutNodes = np.array(zz[0])\n",
    "    MMinNodes = np.array(zz[1])\n",
    "    \n",
    "    allEdges = G.edges()\n",
    "    zz = list(zip(*allEdges)) #split tuple list into \"out\" list and \"in\" list (all links)\n",
    "    GoutNodes = np.array(zz[0])\n",
    "    GinNodes = np.array(zz[1])\n",
    "    \n",
    "    # Find MDNS:\n",
    "    \n",
    "    MDNS = MM.nodes() #will be pruned down to Minimum Driver Node Set\n",
    "    for lnk in matching: #if downstream end of edge is in MDNS, pop it\n",
    "        try: \n",
    "            MDNS.remove(lnk[1])\n",
    "        except ValueError:\n",
    "            pass\n",
    "    print('Driver nodes: ', MDNS)\n",
    "    \n",
    "    # Find Stems:\n",
    "    \n",
    "    nStem = len(MDNS)\n",
    "    \n",
    "    \n",
    "    stems = {} #dict of stems: key is index of MDNS, value is list of nodes\n",
    "    \n",
    "    for s in range(0,nStem):\n",
    "        stems.setdefault(s, []) #initializes to empty list if value for s is undefined, does nothing if it's already defined\n",
    "        stems[s].append(MDNS[s])\n",
    "        searchval = MDNS[s]\n",
    "        while 1:\n",
    "            searchval = stems[s][-1] #set to last item in the stem\n",
    "            ii = np.where(MMoutNodes == searchval)[0] #returns indices of all MM edges which start from node searchval\n",
    "            if len(ii) > 1:\n",
    "                print('Stem appears to have a fork in it!')\n",
    "                break\n",
    "            elif len(ii) == 0: #in this case we've reached the end of the stem\n",
    "                break\n",
    "            else:\n",
    "                if MMinNodes[ii[0]] in stems[s]:\n",
    "                    print(\"Stem has looped back on itself: If you're reading this you need to code up a way to deal with it\")\n",
    "                    break\n",
    "                else:\n",
    "                    stems[s].append(MMinNodes[ii[0]]) #add next node of the stem to dict value\n",
    "        \n",
    "    # Find Cycles:\n",
    "        \n",
    "    listCycles = list(nx.simple_cycles(MM))\n",
    "    nCycle = len(listCycles)\n",
    "    cycles = {} #dict of cycles\n",
    "    for c in range(0,nCycle):\n",
    "        cycles[c] = listCycles[c]\n",
    "    \n",
    "    # Find Additional Links (AL)\n",
    "    \n",
    "    AL = {} #AL dict, keys are stem indices and values are edge tuples\n",
    "    linkedCycles = {} #stores the indices of cycles linked to each stem\n",
    "    for s in range(0,nStem):\n",
    "        AL.setdefault(s, [])\n",
    "        linkedCycles.setdefault(s, [])\n",
    "        unlinkedCycles = list(cycles.keys())\n",
    "        thisStem = stems[s]\n",
    "        for n in thisStem:\n",
    "            ii = np.where(GoutNodes == n)[0] #returns indices of all edges which start from node n\n",
    "            if len(ii) == 0:\n",
    "                break #end of the stem\n",
    "            for l in ii: #loop through edges coming out of n\n",
    "                outN = GoutNodes[l]\n",
    "                inN = GinNodes[l]\n",
    "                if (inN in thisStem) == 0: #skip the edge that's in the stem\n",
    "                    for c in unlinkedCycles:\n",
    "                        if inN in cycles[c]: #check if link goes to an as-yet unlinked cycle\n",
    "                            thisEdge = tuple([outN,inN])\n",
    "                            AL[s].append(thisEdge)\n",
    "                            unlinkedCycles.remove(c)\n",
    "                            linkedCycles[s].append(c)\n",
    "            if len(unlinkedCycles) == 0:\n",
    "                break\n",
    "                \n",
    "    print(\"Stems: \", stems)\n",
    "    print(\"Cycles: \", cycles)\n",
    "    print(\"Additional Links: \", AL)\n",
    "    print(\"Linked Cycles: \", linkedCycles)\n",
    "        \n",
    "    "
   ]
  },
  {
   "cell_type": "code",
   "execution_count": 100,
   "metadata": {
    "collapsed": false
   },
   "outputs": [
    {
     "name": "stdout",
     "output_type": "stream",
     "text": [
      "Driver nodes:  [1, 2, 4]\n",
      "Stems:  {0: [1, 16, 9, 12], 1: [2, 3], 2: [4]}\n",
      "Cycles:  {0: [13, 14, 15], 1: [10, 11], 2: [8, 5, 6, 7]}\n",
      "Additional Links:  {0: [(16, 5), (16, 13), (9, 10)], 1: [(2, 13)], 2: []}\n",
      "Linked Cycles:  {0: [2, 0, 1], 1: [0], 2: []}\n"
     ]
    }
   ],
   "source": [
    "# Test the function on the sample graph from Wang's paper (using the specific maximum matching depicted)\n",
    "import TestNetworks as TN\n",
    "G = TN.testNet(4)\n",
    "MM = nx.DiGraph()\n",
    "MM.add_nodes_from(range(1,17))\n",
    "MM.add_edges_from([(1,16),(16,9),(9,12),(5,6),(6,7),(7,8),(8,5),(2,3),(13,14),(14,15),(15,13),(10,11),(11,10)])\n",
    "\n",
    "BuildCF(G,MM)\n",
    "\n",
    "\n"
   ]
  },
  {
   "cell_type": "code",
   "execution_count": null,
   "metadata": {
    "collapsed": false
   },
   "outputs": [],
   "source": []
  }
 ],
 "metadata": {
  "kernelspec": {
   "display_name": "Python 3",
   "language": "python",
   "name": "python3"
  },
  "language_info": {
   "codemirror_mode": {
    "name": "ipython",
    "version": 3
   },
   "file_extension": ".py",
   "mimetype": "text/x-python",
   "name": "python",
   "nbconvert_exporter": "python",
   "pygments_lexer": "ipython3",
   "version": "3.5.2"
  }
 },
 "nbformat": 4,
 "nbformat_minor": 2
}
