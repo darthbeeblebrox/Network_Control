{
 "cells": [
  {
   "cell_type": "code",
   "execution_count": null,
   "metadata": {
    "collapsed": true
   },
   "outputs": [],
   "source": [
    "## Returns a networkx digraph of:\n",
    "#       1-3) One of the three example networks given in Liu 2011 Fig. 1\n",
    "#         4) The example network given in Wang 2012 Fig .2\n",
    "\n",
    "import networkx as nx\n",
    "\n",
    "def testNet(n):\n",
    "    G = nx.DiGraph();\n",
    "    if n == 1:\n",
    "        G.add_nodes_from(range(4))\n",
    "        G.add_edges_from([(0,1),(1,2),(2,3)])\n",
    "        return G\n",
    "    elif n == 2:\n",
    "        G.add_nodes_from(range(4))\n",
    "        G.add_edges_from([(0,1),(0,2),(0,3)])\n",
    "        return G\n",
    "    elif n == 3:\n",
    "        G.add_nodes_from(range(6))\n",
    "        G.add_edges_from([(0,1),(0,2),(0,3),(0,4),(0,5),(2,3)])\n",
    "        return G\n",
    "    elif n == 4:\n",
    "        G.add_nodes_from(range(16))\n",
    "        G.add_edges_from([(0,15),(15,4),(4,5),(5,6),(6,7),(7,4),(15,8),(8,5),(8,9),(9,10),(10,9),(8,11),(15,12),(12,8),(12,13),(13,14),(14,12),(1,12),(1,2),(1,3)])\n",
    "        return G\n",
    "    elif n == 100:\n",
    "        G = nx.read_graphml('elegansGraphML.txt',node_type=int)\n",
    "        return G\n",
    "    else:\n",
    "        print('Bad Input; please input an integer from 1-5 or 100 (large C elegans connectome)')\n",
    "        return\n",
    "    "
   ]
  }
 ],
 "metadata": {
  "anaconda-cloud": {},
  "kernelspec": {
   "display_name": "Python 3",
   "language": "python",
   "name": "python3"
  },
  "language_info": {
   "codemirror_mode": {
    "name": "ipython",
    "version": 3
   },
   "file_extension": ".py",
   "mimetype": "text/x-python",
   "name": "python",
   "nbconvert_exporter": "python",
   "pygments_lexer": "ipython3",
   "version": "3.6.0"
  }
 },
 "nbformat": 4,
 "nbformat_minor": 2
}
