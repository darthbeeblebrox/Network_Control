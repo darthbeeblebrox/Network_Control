{
 "cells": [
  {
   "cell_type": "code",
   "execution_count": null,
   "metadata": {
    "collapsed": true
   },
   "outputs": [],
   "source": [
    "## Returns a networkx digraph of:\n",
    "#       1-3) One of the three example networks given in Liu 2011 Fig. 1\n",
    "#         4) The example network given in Wang 2012 Fig .2\n",
    "\n",
    "import networkx as nx\n",
    "\n",
    "def testNet(n):\n",
    "    G = nx.DiGraph();\n",
    "    if n == 1:\n",
    "        G.add_nodes_from(range(1,5))\n",
    "        G.add_edges_from([(1,2),(2,3),(3,4)])\n",
    "        return G\n",
    "    elif n == 2:\n",
    "        G.add_nodes_from(range(1,5))\n",
    "        G.add_edges_from([(1,2),(1,3),(1,4)])\n",
    "        return G\n",
    "    elif n == 3:\n",
    "        G.add_nodes_from(range(1,7))\n",
    "        G.add_edges_from([(1,2),(1,3),(1,4),(1,5),(1,6),(3,4)])\n",
    "        return G\n",
    "    elif n == 4:\n",
    "        G.add_nodes_from(range(1,17))\n",
    "        G.add_edges_from([(1,16),(16,5),(5,6),(6,7),(7,8),(8,5),(16,9),(9,6),(9,10),(10,11),(11,10),(9,12),(16,13),(13,9),(13,14),(14,15),(15,13),(2,13),(2,3),(2,4)])\n",
    "        return G\n",
    "    elif n == 100:\n",
    "        G = nx.read_graphml('elegansGraphML.txt',node_type=int)\n",
    "        return G\n",
    "    else:\n",
    "        print('Bad Input; please input an integer from 1-5 or 100 (large C elegans connectome)')\n",
    "        return\n",
    "    "
   ]
  }
 ],
 "metadata": {
  "anaconda-cloud": {},
  "kernelspec": {
   "display_name": "Python [default]",
   "language": "python",
   "name": "python3"
  },
  "language_info": {
   "codemirror_mode": {
    "name": "ipython",
    "version": 3
   },
   "file_extension": ".py",
   "mimetype": "text/x-python",
   "name": "python",
   "nbconvert_exporter": "python",
   "pygments_lexer": "ipython3",
   "version": "3.5.2"
  }
 },
 "nbformat": 4,
 "nbformat_minor": 2
}
