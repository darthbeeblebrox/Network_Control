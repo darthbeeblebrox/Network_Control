{
 "cells": [
  {
   "cell_type": "code",
   "execution_count": 2,
   "metadata": {
    "collapsed": false
   },
   "outputs": [
    {
     "name": "stdout",
     "output_type": "stream",
     "text": [
      "node degree clustering\n",
      "0 2 1.000000\n",
      "1 2 1.000000\n",
      "2 1 0.000000\n",
      "3 3 0.333333\n",
      "#C:\\Users\\charl\\Anaconda3\\lib\\site-packages\\ipykernel\\__main__.py -f C:\\Users\\charl\\AppData\\Roaming\\jupyter\\runtime\\kernel-16305712-5461-4a37-891d-678f28c96b61.json\n",
      "# GMT Thu May 18 00:26:58 2017\n",
      "# gnm_random_graph(4,4)\n",
      "0 1 3\n",
      "1 3\n",
      "2 3\n",
      "3\n"
     ]
    }
   ],
   "source": [
    "# -*- coding: utf-8 -*-\n",
    "#!/usr/bin/env python\n",
    "\"\"\"\n",
    "Create an G{n,m} random graph with n nodes and m edges\n",
    "and report some properties.\n",
    "\n",
    "This graph is sometimes called the Erdős-Rényi graph\n",
    "but is different from G{n,p} or binomial_graph which is also\n",
    "sometimes called the Erdős-Rényi graph.\n",
    "\"\"\"\n",
    "# Author: Aric Hagberg (hagberg@lanl.gov)\n",
    "\n",
    "#    Copyright (C) 2004-2016 by\n",
    "#    Aric Hagberg <hagberg@lanl.gov>\n",
    "#    Dan Schult <dschult@colgate.edu>\n",
    "#    Pieter Swart <swart@lanl.gov>\n",
    "#    All rights reserved.\n",
    "#    BSD license.\n",
    "\n",
    "%matplotlib inline\n",
    "\n",
    "from networkx import *\n",
    "import sys\n",
    "\n",
    "try:\n",
    "    import matplotlib.pyplot as plt\n",
    "except:\n",
    "    raise\n",
    "\n",
    "n=4 # 10 nodes\n",
    "m=4 # 20 edges\n",
    "\n",
    "G=gnm_random_graph(n,m)\n",
    "\n",
    "# some properties\n",
    "print(\"node degree clustering\")\n",
    "for v in nodes(G):\n",
    "    print('%s %d %f' % (v,degree(G,v),clustering(G,v)))\n",
    "\n",
    "# print the adjacency list to terminal\n",
    "try:\n",
    "    write_adjlist(G,sys.stdout)\n",
    "except TypeError: # Python 3.x\n",
    "    write_adjlist(G,sys.stdout.buffer)"
   ]
  },
  {
   "cell_type": "code",
   "execution_count": 3,
   "metadata": {
    "collapsed": false
   },
   "outputs": [
    {
     "data": {
      "image/png": "[encoded data removed]",
      "text/plain": [
       "<matplotlib.figure.Figure at 0x2cde6e644e0>"
      ]
     },
     "metadata": {},
     "output_type": "display_data"
    }
   ],
   "source": [
    "#elarge=[(u,v) for (u,v,d) in G.edges(data=True) if d['weight'] >0.5]\n",
    "#esmall=[(u,v) for (u,v,d) in G.edges(data=True) if d['weight'] <=0.5]\n",
    "elarge=[(u,v) for (u,v,d) in G.edges(data=True) if 1]\n",
    "\n",
    "\n",
    "pos=nx.spring_layout(G) # positions for all nodes\n",
    "\n",
    "# nodes\n",
    "nx.draw_networkx_nodes(G,pos,node_size=700)\n",
    "\n",
    "# edges\n",
    "nx.draw_networkx_edges(G,pos,edgelist=elarge,\n",
    "                    width=6)\n",
    "#nx.draw_networkx_edges(G,pos,edgelist=esmall,\n",
    "#                    width=6,alpha=0.5,edge_color='b',style='dashed')\n",
    "\n",
    "# labels\n",
    "nx.draw_networkx_labels(G,pos,font_size=20,font_family='sans-serif')\n",
    "\n",
    "plt.axis('off')\n",
    "#plt.savefig(\"weighted_graph.png\") # save as png\n",
    "plt.show() # display"
   ]
  },
  {
   "cell_type": "code",
   "execution_count": null,
   "metadata": {
    "collapsed": true
   },
   "outputs": [],
   "source": []
  }
 ],
 "metadata": {
  "anaconda-cloud": {},
  "kernelspec": {
   "display_name": "Python [conda root]",
   "language": "python",
   "name": "conda-root-py"
  },
  "language_info": {
   "codemirror_mode": {
    "name": "ipython",
    "version": 3
   },
   "file_extension": ".py",
   "mimetype": "text/x-python",
   "name": "python",
   "nbconvert_exporter": "python",
   "pygments_lexer": "ipython3",
   "version": "3.5.2"
  }
 },
 "nbformat": 4,
 "nbformat_minor": 1
}
