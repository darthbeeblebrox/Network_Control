{
 "cells": [
  {
   "cell_type": "code",
   "execution_count": 1,
   "metadata": {
    "collapsed": false
   },
   "outputs": [
    {
     "name": "stderr",
     "output_type": "stream",
     "text": [
      "C:\\Users\\Daniel\\Google Drive\\University of Washington\\Quarter 07 - Spring 2017\\MECH 599 - Machine Learning and Control\\Project\\Network_Control\\lib\\Maximal_ish_matching.py:49: UserWarning: All nodes cycled through without reaching enough unique cycles; halting and returning all found\n",
      "  warnings.warn(\"All nodes cycled through without reaching enough unique cycles; halting and returning all found\")\n"
     ]
    }
   ],
   "source": [
    "from lib import Maximal_ish_matching as mim\n",
    "from lib import ComputeSMCR as CR\n",
    "from lib import ComputeCS as CS\n",
    "from lib import DigraphConvert as DConv\n",
    "from lib import BuildCF\n",
    "import networkx as nx\n",
    "import matplotlib.pyplot as plt\n",
    "import csv\n",
    "G = nx.read_graphml('elegansGraphML.txt',node_type=int)\n",
    "nNodes = G.number_of_nodes()\n",
    "BP = DConv.digraphToBipartite(G)\n",
    "t = 533 # number of matchings to obtain (533 is the \"optimal\" value according to Wang's method)\n",
    "BPMMs = mim.maximal_ish_matching(BP,t,0.05)\n",
    "\n",
    "# Need to trim off redundancies that come from double-counting output-to-input and input-to-output connections:\n",
    "BPMMsCut = []\n",
    "for j in range(len(BPMMs)): #loop over matchings\n",
    "    BPMMsCut.append({})\n",
    "    for key in BPMMs[j]:\n",
    "        if key < nNodes:\n",
    "            BPMMsCut[j][key] = BPMMs[j][key]\n",
    "             \n",
    "MMs = DConv.B2Dmatching(BPMMsCut,nNodes) #convert back to digraph node labelings\n",
    "\n",
    "# # For nodes not part of a given matching, add them to dict with empty value \n",
    "# for matching in MMs:\n",
    "#     for node in nodeList:\n",
    "#         if node not in matching:\n",
    "#             matching[node] = []\n",
    "\n",
    "# keys = MMs[0].keys()\n",
    "# with open('people.csv', 'wb') as output_file:\n",
    "#     dict_writer = csv.DictWriter(output_file, keys)\n",
    "#     dict_writer.writeheader()\n",
    "#     dict_writer.writerows(toCSV)\n"
   ]
  },
  {
   "cell_type": "code",
   "execution_count": null,
   "metadata": {
    "collapsed": false
   },
   "outputs": [],
   "source": [
    "from lib import Maximal_ish_matching as mim\n",
    "from lib import ComputeSMCR as CR\n",
    "from lib import ComputeCS as CS\n",
    "from lib import DigraphConvert as DConv\n",
    "from lib import BuildCF\n",
    "smcr = CR.SMCR(G,MMs)\n",
    "print('SMCR: ', smcr)"
   ]
  },
  {
   "cell_type": "code",
   "execution_count": null,
   "metadata": {
    "collapsed": false
   },
   "outputs": [],
   "source": [
    "#print(len(smcr))\n",
    "thefile = open('SMCR_Result.txt', 'w')\n",
    "for item in smcr:\n",
    "    thefile.write(\"%s\\t%s\\n\" % (item,smcr[item]))\n",
    "thefile.close()"
   ]
  },
  {
   "cell_type": "code",
   "execution_count": 2,
   "metadata": {
    "collapsed": false
   },
   "outputs": [
    {
     "name": "stdout",
     "output_type": "stream",
     "text": [
      "AllCS: Computing from node  1  to node  0\n",
      "MM  0 / 525\n",
      "MM  1 / 525\n",
      "MM  2 / 525\n",
      "MM  3 / 525\n",
      "MM  4 / 525\n",
      "MM  5 / 525\n",
      "MM  6 / 525\n"
     ]
    },
    {
     "ename": "KeyboardInterrupt",
     "evalue": "",
     "output_type": "error",
     "traceback": [
      "\u001b[0;31m---------------------------------------------------------------------------\u001b[0m",
      "\u001b[0;31mKeyboardInterrupt\u001b[0m                         Traceback (most recent call last)",
      "\u001b[0;32m<ipython-input-2-775a662f899f>\u001b[0m in \u001b[0;36m<module>\u001b[0;34m()\u001b[0m\n\u001b[1;32m      5\u001b[0m \u001b[1;32mfrom\u001b[0m \u001b[0mlib\u001b[0m \u001b[1;32mimport\u001b[0m \u001b[0mBuildCF\u001b[0m\u001b[1;33m\u001b[0m\u001b[0m\n\u001b[1;32m      6\u001b[0m \u001b[1;33m\u001b[0m\u001b[0m\n\u001b[0;32m----> 7\u001b[0;31m \u001b[0mcs\u001b[0m \u001b[1;33m=\u001b[0m \u001b[0mCS\u001b[0m\u001b[1;33m.\u001b[0m\u001b[0mAllCS\u001b[0m\u001b[1;33m(\u001b[0m\u001b[0mG\u001b[0m\u001b[1;33m,\u001b[0m\u001b[0mMMs\u001b[0m\u001b[1;33m)\u001b[0m\u001b[1;33m\u001b[0m\u001b[0m\n\u001b[0m\u001b[1;32m      8\u001b[0m \u001b[0mprint\u001b[0m\u001b[1;33m(\u001b[0m\u001b[1;34m'All CS: '\u001b[0m\u001b[1;33m,\u001b[0m \u001b[0mcs\u001b[0m\u001b[1;33m)\u001b[0m\u001b[1;33m\u001b[0m\u001b[0m\n\u001b[1;32m      9\u001b[0m \u001b[0mcsfile\u001b[0m \u001b[1;33m=\u001b[0m \u001b[0mopen\u001b[0m\u001b[1;33m(\u001b[0m\u001b[1;34m'CS_Result.txt'\u001b[0m\u001b[1;33m,\u001b[0m \u001b[1;34m'w'\u001b[0m\u001b[1;33m)\u001b[0m\u001b[1;33m\u001b[0m\u001b[0m\n",
      "\u001b[0;32mC:\\Users\\Daniel\\Google Drive\\University of Washington\\Quarter 07 - Spring 2017\\MECH 599 - Machine Learning and Control\\Project\\Network_Control\\lib\\ComputeCS.py\u001b[0m in \u001b[0;36mAllCS\u001b[0;34m(G, AllMM)\u001b[0m\n\u001b[1;32m     52\u001b[0m         \u001b[1;32mfor\u001b[0m \u001b[0mn\u001b[0m \u001b[1;32min\u001b[0m \u001b[0mrange\u001b[0m\u001b[1;33m(\u001b[0m\u001b[0mm\u001b[0m\u001b[1;33m)\u001b[0m\u001b[1;33m:\u001b[0m \u001b[1;31m#only need n to go up to m-1 because CS is symmetric and diagonals are irrelevant\u001b[0m\u001b[1;33m\u001b[0m\u001b[0m\n\u001b[1;32m     53\u001b[0m             \u001b[0mprint\u001b[0m\u001b[1;33m(\u001b[0m\u001b[1;34m'AllCS: Computing from node '\u001b[0m\u001b[1;33m,\u001b[0m \u001b[0mnIter1\u001b[0m\u001b[1;33m,\u001b[0m \u001b[1;34m' to node '\u001b[0m\u001b[1;33m,\u001b[0m \u001b[0mnIter2\u001b[0m\u001b[1;33m)\u001b[0m\u001b[1;33m\u001b[0m\u001b[0m\n\u001b[0;32m---> 54\u001b[0;31m             \u001b[0msim\u001b[0m \u001b[1;33m=\u001b[0m \u001b[0mCS\u001b[0m\u001b[1;33m(\u001b[0m\u001b[0mG\u001b[0m\u001b[1;33m,\u001b[0m\u001b[0mAllMM\u001b[0m\u001b[1;33m,\u001b[0m\u001b[0mm\u001b[0m\u001b[1;33m,\u001b[0m\u001b[0mn\u001b[0m\u001b[1;33m)\u001b[0m\u001b[1;33m\u001b[0m\u001b[0m\n\u001b[0m\u001b[1;32m     55\u001b[0m             \u001b[0mCSims\u001b[0m\u001b[1;33m[\u001b[0m\u001b[0mm\u001b[0m\u001b[1;33m]\u001b[0m\u001b[1;33m[\u001b[0m\u001b[0mn\u001b[0m\u001b[1;33m]\u001b[0m \u001b[1;33m=\u001b[0m \u001b[0msim\u001b[0m\u001b[1;33m\u001b[0m\u001b[0m\n\u001b[1;32m     56\u001b[0m             \u001b[0mCSims\u001b[0m\u001b[1;33m[\u001b[0m\u001b[0mn\u001b[0m\u001b[1;33m]\u001b[0m\u001b[1;33m[\u001b[0m\u001b[0mm\u001b[0m\u001b[1;33m]\u001b[0m \u001b[1;33m=\u001b[0m \u001b[0msim\u001b[0m\u001b[1;33m\u001b[0m\u001b[0m\n",
      "\u001b[0;32mC:\\Users\\Daniel\\Google Drive\\University of Washington\\Quarter 07 - Spring 2017\\MECH 599 - Machine Learning and Control\\Project\\Network_Control\\lib\\ComputeCS.py\u001b[0m in \u001b[0;36mCS\u001b[0;34m(G, AllMM, m, n)\u001b[0m\n\u001b[1;32m     37\u001b[0m         \u001b[1;32mfor\u001b[0m \u001b[0mkCS\u001b[0m \u001b[1;32min\u001b[0m \u001b[0mrange\u001b[0m\u001b[1;33m(\u001b[0m\u001b[0mlen\u001b[0m\u001b[1;33m(\u001b[0m\u001b[0mMMdigs\u001b[0m\u001b[1;33m)\u001b[0m\u001b[1;33m)\u001b[0m\u001b[1;33m:\u001b[0m\u001b[1;33m\u001b[0m\u001b[0m\n\u001b[1;32m     38\u001b[0m             \u001b[0mMM2\u001b[0m \u001b[1;33m=\u001b[0m \u001b[0mMMdigs\u001b[0m\u001b[1;33m[\u001b[0m\u001b[0mkCS\u001b[0m\u001b[1;33m]\u001b[0m\u001b[1;33m\u001b[0m\u001b[0m\n\u001b[0;32m---> 39\u001b[0;31m             \u001b[0mcacti2\u001b[0m \u001b[1;33m=\u001b[0m \u001b[0mCF\u001b[0m\u001b[1;33m.\u001b[0m\u001b[0mBuildCF\u001b[0m\u001b[1;33m(\u001b[0m\u001b[0mG\u001b[0m\u001b[1;33m,\u001b[0m\u001b[0mMM2\u001b[0m\u001b[1;33m)\u001b[0m\u001b[1;33m\u001b[0m\u001b[0m\n\u001b[0m\u001b[1;32m     40\u001b[0m             \u001b[0mDC2\u001b[0m \u001b[1;33m=\u001b[0m \u001b[0mCF\u001b[0m\u001b[1;33m.\u001b[0m\u001b[0mdownstreamCactus\u001b[0m\u001b[1;33m(\u001b[0m\u001b[0mcacti2\u001b[0m\u001b[1;33m,\u001b[0m\u001b[0mG\u001b[0m\u001b[1;33m.\u001b[0m\u001b[0mnodes\u001b[0m\u001b[1;33m(\u001b[0m\u001b[1;33m)\u001b[0m\u001b[1;33m[\u001b[0m\u001b[0mn\u001b[0m\u001b[1;33m]\u001b[0m\u001b[1;33m)\u001b[0m\u001b[1;33m\u001b[0m\u001b[0m\n\u001b[1;32m     41\u001b[0m             \u001b[0msim\u001b[0m \u001b[1;33m=\u001b[0m \u001b[0mlen\u001b[0m\u001b[1;33m(\u001b[0m\u001b[0mset\u001b[0m\u001b[1;33m(\u001b[0m\u001b[0mDC1\u001b[0m\u001b[1;33m)\u001b[0m\u001b[1;33m.\u001b[0m\u001b[0mintersection\u001b[0m\u001b[1;33m(\u001b[0m\u001b[0mDC2\u001b[0m\u001b[1;33m)\u001b[0m\u001b[1;33m)\u001b[0m\u001b[1;33m\u001b[0m\u001b[0m\n",
      "\u001b[0;32mC:\\Users\\Daniel\\Google Drive\\University of Washington\\Quarter 07 - Spring 2017\\MECH 599 - Machine Learning and Control\\Project\\Network_Control\\lib\\BuildCF.py\u001b[0m in \u001b[0;36mBuildCF\u001b[0;34m(G, MM)\u001b[0m\n\u001b[1;32m     92\u001b[0m         \u001b[0mthisStem\u001b[0m \u001b[1;33m=\u001b[0m \u001b[0mthisStem\u001b[0m\u001b[1;33m[\u001b[0m\u001b[1;33m:\u001b[0m\u001b[1;33m-\u001b[0m\u001b[1;36m1\u001b[0m\u001b[1;33m]\u001b[0m \u001b[1;31m#cuts off the last node of the stem (per Wang: \"any links from a top node of a stem to a cycle cannot be added to A\")\u001b[0m\u001b[1;33m\u001b[0m\u001b[0m\n\u001b[1;32m     93\u001b[0m         \u001b[1;32mfor\u001b[0m \u001b[0mn\u001b[0m \u001b[1;32min\u001b[0m \u001b[0mthisStem\u001b[0m\u001b[1;33m:\u001b[0m\u001b[1;33m\u001b[0m\u001b[0m\n\u001b[0;32m---> 94\u001b[0;31m             \u001b[0mii\u001b[0m \u001b[1;33m=\u001b[0m \u001b[0mnp\u001b[0m\u001b[1;33m.\u001b[0m\u001b[0mwhere\u001b[0m\u001b[1;33m(\u001b[0m\u001b[0mGoutNodes\u001b[0m \u001b[1;33m==\u001b[0m \u001b[0mn\u001b[0m\u001b[1;33m)\u001b[0m\u001b[1;33m[\u001b[0m\u001b[1;36m0\u001b[0m\u001b[1;33m]\u001b[0m \u001b[1;31m#returns indices of all edges which start from node n\u001b[0m\u001b[1;33m\u001b[0m\u001b[0m\n\u001b[0m\u001b[1;32m     95\u001b[0m             \u001b[1;32mif\u001b[0m \u001b[0mlen\u001b[0m\u001b[1;33m(\u001b[0m\u001b[0mii\u001b[0m\u001b[1;33m)\u001b[0m \u001b[1;33m==\u001b[0m \u001b[1;36m0\u001b[0m\u001b[1;33m:\u001b[0m\u001b[1;33m\u001b[0m\u001b[0m\n\u001b[1;32m     96\u001b[0m                 \u001b[1;32mbreak\u001b[0m \u001b[1;31m#end of the stem\u001b[0m\u001b[1;33m\u001b[0m\u001b[0m\n",
      "\u001b[0;31mKeyboardInterrupt\u001b[0m: "
     ]
    }
   ],
   "source": [
    "from lib import Maximal_ish_matching as mim\n",
    "from lib import ComputeSMCR as CR\n",
    "from lib import ComputeCS as CS\n",
    "from lib import DigraphConvert as DConv\n",
    "from lib import BuildCF\n",
    "\n",
    "cs = CS.AllCS(G,MMs)\n",
    "print('All CS: ', cs)\n",
    "csfile = open('CS_Result.txt', 'w')\n",
    "for j in cs:\n",
    "    for k in cs[j]:\n",
    "        csfile.write(\"%s\\t\" % (cs[j][k]))\n",
    "    csfile.write(\"\\n\")\n",
    "csfile.close()"
   ]
  },
  {
   "cell_type": "code",
   "execution_count": null,
   "metadata": {
    "collapsed": false
   },
   "outputs": [],
   "source": [
    "#print(BP.edges())\n",
    "#print(BPMMsCut)\n",
    "\n",
    "# dupCheck = []\n",
    "# redundancies = 0\n",
    "# for cmm in BPMMsCut:\n",
    "#     if cmm in dupCheck:\n",
    "#         redundancies += 1\n",
    "#     else:\n",
    "#         dupCheck.append(cmm)\n",
    "# print('Redundancies: ', redundancies)\n",
    "\n",
    "nodeList = G.nodes()\n",
    "\n",
    "\n",
    "\n",
    "\n"
   ]
  },
  {
   "cell_type": "code",
   "execution_count": null,
   "metadata": {
    "collapsed": false
   },
   "outputs": [],
   "source": [
    "G.number_of_nodes()"
   ]
  }
 ],
 "metadata": {
  "kernelspec": {
   "display_name": "Python 3",
   "language": "python",
   "name": "python3"
  },
  "language_info": {
   "codemirror_mode": {
    "name": "ipython",
    "version": 3
   },
   "file_extension": ".py",
   "mimetype": "text/x-python",
   "name": "python",
   "nbconvert_exporter": "python",
   "pygments_lexer": "ipython3",
   "version": "3.6.0"
  }
 },
 "nbformat": 4,
 "nbformat_minor": 2
}
