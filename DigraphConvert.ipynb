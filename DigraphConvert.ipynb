{
 "cells": [
  {
   "cell_type": "code",
   "execution_count": 5,
   "metadata": {
    "collapsed": false
   },
   "outputs": [
    {
     "name": "stdout",
     "output_type": "stream",
     "text": [
      "Bipartite Output:\n",
      "[0, 1, 2, 3, 4, 5, 6, 7, 8, 9, 10, 11]\n",
      "[(0, 7), (0, 8), (0, 9), (0, 10), (0, 11), (2, 9)]\n",
      "Digraph Output:\n",
      "[0, 1, 2, 3, 4, 5]\n",
      "[(0, 1), (0, 2), (0, 3), (0, 4), (0, 5), (2, 3)]\n"
     ]
    }
   ],
   "source": [
    "import networkx as nx\n",
    "import matplotlib.pyplot as plt\n",
    "\n",
    "# Create Sample Digraph (Fig. 1h from Liu (2011))\n",
    "DG = nx.DiGraph()\n",
    "DG.add_nodes_from(range(6)) #add 6 nodes\n",
    "DG.nodes()\n",
    "DG.add_edges_from([(0,1),(0,2),(0,3),(0,4),(0,5),(2,3)])\n",
    "#nx.draw(DG, with_labels=True)\n",
    "# print('In edges: ')\n",
    "# DG.in_edges()\n",
    "# print('Out edges: ')\n",
    "# DG.out_edges()\n",
    "\n",
    "def digraphToBipartite(digIn):\n",
    "    n = digIn.number_of_nodes()\n",
    "    bipOut = nx.Graph()\n",
    "    bipOut.add_nodes_from(range(0,n), bipartite=0) #first n are out nodes, second n are in nodes\n",
    "    bipOut.add_nodes_from(range(n,2*n), bipartite=1) #outs have bipartite flag 0, ins have bipartite flag 1\n",
    "    diEdges = digIn.edges()\n",
    "    for j in diEdges:\n",
    "        bipOut.add_edge(j[0],j[1]+n) #add edge from output subgraph to input subgraph\n",
    "    return bipOut\n",
    "\n",
    "BP = digraphToBipartite(DG)\n",
    "print('Bipartite Output:')\n",
    "print(BP.nodes())\n",
    "print(BP.edges())\n",
    "\n",
    "def bipartiteToDigraph(bipIn):\n",
    "    n = bipIn.number_of_nodes() * 0.5\n",
    "    if n%1 != 0:\n",
    "        print('Invalid number of input nodes:')\n",
    "        print(n)\n",
    "        return\n",
    "    n = int(n)\n",
    "    digOut = nx.DiGraph()\n",
    "    digOut.add_nodes_from(range(0,n))\n",
    "    bipEdges = bipIn.edges()\n",
    "    for j in bipEdges:\n",
    "        digOut.add_edge(j[0],j[1]-n)\n",
    "    return digOut\n",
    "\n",
    "DG_Reconstituted = bipartiteToDigraph(BP)\n",
    "print('Digraph Output:')\n",
    "print(DG_Reconstituted.nodes())\n",
    "print(DG_Reconstituted.edges())\n",
    "\n",
    "#mm = [{1:6,2:7,3:8},{1:7,4:5,3:8}]\n",
    "\n",
    "def B2Dmatching(mm,n):\n",
    "    # mm is a list of dicts of maximal matchings\n",
    "    # n is the number of nodes in the digraph (i.e. half the number of nodes in the bipartite graph)\n",
    "    nMM = len(mm) #number of maximal matching configurations\n",
    "    dgmm = [] #new list to be populated with converted matching dicts\n",
    "    for k in range(nMM):\n",
    "        thisMM = mm[k]\n",
    "        for key in thisMM.keys():\n",
    "            thisMM[key] = thisMM[key] - n\n",
    "        dgmm.append(thisMM)\n",
    "    return dgmm\n",
    "\n",
    "def CelegansLabelConvert(G):\n",
    "    '''\n",
    "    Takes a graph that doesn''t start at node label 1 and relabels them with integers\n",
    "    \n",
    "    Specifically for use with the C elegans connectome\n",
    "    '''\n",
    "    \n",
    "    nodeList = G.nodes()\n",
    "    labelDict = dict(zip(range(1,len(nodeList)), nodeList))\n",
    "    \n",
    "    #print(labelDict)\n",
    "\n",
    "    H = nx.convert_node_labels_to_integers(G)\n",
    "    nx.set_node_attributes(H, 'neuronLabel', labelDict)\n",
    "    #Also write the text file for future saving\n",
    "    #nx.write_graphml(H, 'elegansGraphML.txt',encoding='utf-8', prettyprint=True)\n",
    "    \n",
    "    return H\n"
   ]
  },
  {
   "cell_type": "code",
   "execution_count": 30,
   "metadata": {
    "collapsed": false
   },
   "outputs": [
    {
     "name": "stdout",
     "output_type": "stream",
     "text": [
      "[0, 1, 2, 3, 4, 5, 6, 7, 8, 9, 10, 11, 12, 13, 14, 15, 16, 17, 18, 19, 20, 21, 22, 23, 24, 25, 26, 27, 28, 29, 30, 31, 32, 33, 34, 35, 36, 37, 38, 39, 40, 41, 42, 43, 44, 45, 46, 47, 48, 49, 50, 51, 52, 53, 54, 55, 56, 57, 58, 59, 60, 61, 62, 63, 64, 65, 66, 67, 68, 69, 70, 71, 72, 73, 74, 75, 76, 77, 78, 79, 80, 81, 82, 83, 84, 85, 86, 87, 88, 89, 90, 91, 92, 93, 94, 95, 96, 97, 98, 99, 100, 101, 102, 103, 104, 105, 106, 107, 108, 109, 110, 111, 112, 113, 114, 115, 116, 117, 118, 119, 120, 121, 122, 123, 124, 125, 126, 127, 128, 129, 130, 131, 132, 133, 134, 135, 136, 137, 138, 139, 140, 141, 142, 143, 144, 145, 146, 147, 148, 149, 150, 151, 152, 153, 154, 155, 156, 157, 158, 159, 160, 161, 162, 163, 164, 165, 166, 167, 168, 169, 170, 171, 172, 173, 174, 175, 176, 177, 178, 179, 180, 181, 182, 183, 184, 185, 186, 187, 188, 189, 190, 191, 192, 193, 194, 195, 196, 197, 198, 199, 200, 201, 202, 203, 204, 205, 206, 207, 208, 209, 210, 211, 212, 213, 214, 215, 216, 217, 218, 219, 220, 221, 222, 223, 224, 225, 226, 227, 228, 229, 230, 231, 232, 233, 234, 235, 236, 237, 238, 239, 240, 241, 242, 243, 244, 245, 246, 247, 248, 249, 250, 251, 252, 253, 254, 255, 256, 257, 258, 259, 260, 261, 262, 263, 264, 265, 266, 267, 268, 269, 270, 271, 272, 273, 274, 275, 276, 277, 278]\n"
     ]
    }
   ],
   "source": [
    "import TestNetworks as tn\n",
    "\n",
    "G = tn.testNet(100)\n",
    "\n",
    "G = CelegansLabelConvert(G)\n",
    "print(G.nodes())\n",
    "Gbi = digraphToBipartite(G)\n",
    "\n",
    "#print(Gbi.nodes(data=True))"
   ]
  },
  {
   "cell_type": "code",
   "execution_count": null,
   "metadata": {
    "collapsed": true
   },
   "outputs": [],
   "source": []
  }
 ],
 "metadata": {
  "anaconda-cloud": {},
  "kernelspec": {
   "display_name": "Python 3",
   "language": "python",
   "name": "python3"
  },
  "language_info": {
   "codemirror_mode": {
    "name": "ipython",
    "version": 3
   },
   "file_extension": ".py",
   "mimetype": "text/x-python",
   "name": "python",
   "nbconvert_exporter": "python",
   "pygments_lexer": "ipython3",
   "version": "3.6.0"
  }
 },
 "nbformat": 4,
 "nbformat_minor": 2
}
