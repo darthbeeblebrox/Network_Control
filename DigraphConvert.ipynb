{
 "cells": [
  {
   "cell_type": "code",
   "execution_count": 3,
   "metadata": {
    "collapsed": false
   },
   "outputs": [],
   "source": [
    "import networkx as nx\n",
    "import matplotlib.pyplot as plt\n",
    "\n",
    "# # Create Sample Digraph (Fig. 1h from Liu (2011))\n",
    "# DG = nx.DiGraph()\n",
    "# DG.add_nodes_from(range(1,7)) #add 6 nodes\n",
    "# DG.nodes()\n",
    "# DG.add_edges_from([(1,2),(1,3),(1,4),(1,5),(1,6),(3,4)])\n",
    "# #nx.draw(DG, with_labels=True)\n",
    "# # print('In edges: ')\n",
    "# # DG.in_edges()\n",
    "# # print('Out edges: ')\n",
    "# # DG.out_edges()\n",
    "\n",
    "def digraphToBipartite(digIn):\n",
    "    n = digIn.number_of_nodes()\n",
    "    bipOut = nx.Graph()\n",
    "    bipOut.add_nodes_from(range(1,2*n+1)) #first n are out nodes, second n are in nodes\n",
    "    diEdges = digIn.edges()\n",
    "    for j in diEdges:\n",
    "        bipOut.add_edge(j[0],j[1]+n) #add edge from output subgraph to input subgraph\n",
    "    return bipOut\n",
    "\n",
    "# BP = digraphToBipartite(DG)\n",
    "# print('Bipartite Output:')\n",
    "# print(BP.nodes())\n",
    "# print(BP.edges())\n",
    "\n",
    "def bipartiteToDigraph(bipIn):\n",
    "    n = bipIn.number_of_nodes() * 0.5\n",
    "    if n%1 != 0:\n",
    "        print('Invalid number of input nodes:')\n",
    "        print(n)\n",
    "        return\n",
    "    n = int(n)\n",
    "    digOut = nx.DiGraph()\n",
    "    digOut.add_nodes_from(range(1,n+1))\n",
    "    bipEdges = bipIn.edges()\n",
    "    for j in bipEdges:\n",
    "        digOut.add_edge(j[0],j[1]-n)\n",
    "    return digOut\n",
    "\n",
    "# DG_Reconstituted = bipartiteToDigraph(BP)\n",
    "# print('Digraph Output:')\n",
    "# print(DG_Reconstituted.nodes())\n",
    "# print(DG_Reconstituted.edges())\n",
    "\n",
    "#mm = [{1:6,2:7,3:8},{1:7,4:5,3:8}]\n",
    "\n",
    "def B2Dmatching(mm,n):\n",
    "    # mm is a list of dicts of maximal matchings\n",
    "    # n is the number of nodes in the digraph (i.e. half the number of nodes in the bipartite graph)\n",
    "    nMM = len(mm) #number of maximal matching configurations\n",
    "    dgmm = [] #new list to be populated with converted matching dicts\n",
    "    for k in range(nMM):\n",
    "        thisMM = mm[k]\n",
    "        for key in thisMM.keys():\n",
    "            thisMM[key] = thisMM[key] - n\n",
    "        dgmm.append(thisMM)\n",
    "    return dgmm\n",
    "\n"
   ]
  },
  {
   "cell_type": "code",
   "execution_count": null,
   "metadata": {
    "collapsed": true
   },
   "outputs": [],
   "source": []
  }
 ],
 "metadata": {
  "kernelspec": {
   "display_name": "Python 3",
   "language": "python",
   "name": "python3"
  },
  "language_info": {
   "codemirror_mode": {
    "name": "ipython",
    "version": 3
   },
   "file_extension": ".py",
   "mimetype": "text/x-python",
   "name": "python",
   "nbconvert_exporter": "python",
   "pygments_lexer": "ipython3",
   "version": "3.5.2"
  }
 },
 "nbformat": 4,
 "nbformat_minor": 2
}
