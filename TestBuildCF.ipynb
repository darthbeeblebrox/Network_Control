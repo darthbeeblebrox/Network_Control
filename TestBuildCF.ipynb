{
 "cells": [
  {
   "cell_type": "code",
   "execution_count": null,
   "metadata": {
    "collapsed": true
   },
   "outputs": [],
   "source": [
    "# Test the function on the sample graph from Wang's paper (using the specific maximum matching depicted)\n",
    "import TestNetworks as TN\n",
    "import matplotlib.pyplot as plt\n",
    "import networkx as nx\n",
    "import numpy as np\n",
    "\n",
    "G = TN.testNet(4)\n",
    "MM = nx.DiGraph()\n",
    "MM.add_nodes_from(range(1,17))\n",
    "MM.add_edges_from([(1,16),(16,9),(9,12),(5,6),(6,7),(7,8),(8,5),(2,3),(13,14),(14,15),(15,13),(10,11),(11,10)])\n",
    "\n",
    "cacti = BuildCF(G,MM)\n",
    "# for j in range(len(cacti)):\n",
    "#     print(\"Cactus \", j, \":\")\n",
    "#     drawCactus(G,cacti[j])\n",
    "\n",
    "for n in G.nodes():\n",
    "    dsc = downstreamCactus(cacti,n)\n",
    "    print(\"Downstream of node \", n, \":\")\n",
    "    drawCactus(G,dsc)\n"
   ]
  }
 ],
 "metadata": {
  "kernelspec": {
   "display_name": "Python 3",
   "language": "python",
   "name": "python3"
  },
  "language_info": {
   "codemirror_mode": {
    "name": "ipython",
    "version": 3
   },
   "file_extension": ".py",
   "mimetype": "text/x-python",
   "name": "python",
   "nbconvert_exporter": "python",
   "pygments_lexer": "ipython3",
   "version": "3.6.0"
  }
 },
 "nbformat": 4,
 "nbformat_minor": 2
}
