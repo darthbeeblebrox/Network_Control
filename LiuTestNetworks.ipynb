{
 "cells": [
  {
   "cell_type": "code",
   "execution_count": null,
   "metadata": {
    "collapsed": true
   },
   "outputs": [],
   "source": [
    "## Returns a networkx digraph of one of the three example networks given in Liu 2011 Fig. 1\n",
    "\n",
    "import networkx as nx\n",
    "\n",
    "def testNet(n):\n",
    "    G = nx.DiGraph();\n",
    "    if n == 1:\n",
    "        G.add_nodes_from(range(1,5))\n",
    "        G.add_edges_from([(1,2),(2,3),(3,4)])\n",
    "        return G\n",
    "    elif n == 2:\n",
    "        G.add_nodes_from(range(1,5))\n",
    "        G.add_edges_from([(1,2),(1,3),(1,4)])\n",
    "        return G\n",
    "    elif n == 3:\n",
    "        G.add_nodes_from(range(1,7))\n",
    "        G.add_edges_from([(1,2),(1,3),(1,4),(1,5),(1,6),(3,4)])\n",
    "        return G\n",
    "    else:\n",
    "        print('Bad Input')\n",
    "        return\n",
    "    "
   ]
  }
 ],
 "metadata": {
  "kernelspec": {
   "display_name": "Python 3",
   "language": "python",
   "name": "python3"
  },
  "language_info": {
   "codemirror_mode": {
    "name": "ipython",
    "version": 3
   },
   "file_extension": ".py",
   "mimetype": "text/x-python",
   "name": "python",
   "nbconvert_exporter": "python",
   "pygments_lexer": "ipython3",
   "version": "3.6.0"
  }
 },
 "nbformat": 4,
 "nbformat_minor": 2
}
